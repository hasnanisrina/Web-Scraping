{
 "cells": [
  {
   "cell_type": "code",
   "execution_count": 1,
   "id": "7e8a08a7",
   "metadata": {},
   "outputs": [],
   "source": [
    "#1.Import library\n",
    "import pandas as pd\n",
    "import requests\n",
    "from bs4 import BeautifulSoup"
   ]
  },
  {
   "cell_type": "code",
   "execution_count": 7,
   "id": "a4252c87",
   "metadata": {},
   "outputs": [],
   "source": [
    "#2.set base url and result\n",
    "url = \"https://www.imdb.com/chart/top/\"\n",
    "all_movies = []"
   ]
  },
  {
   "cell_type": "code",
   "execution_count": 8,
   "id": "01d763ab",
   "metadata": {},
   "outputs": [
    {
     "name": "stdout",
     "output_type": "stream",
     "text": [
      "<Response [202]>\n"
     ]
    }
   ],
   "source": [
    "#3.request raw html data\n",
    "response = requests.get(url)\n",
    "\n",
    "print(response)"
   ]
  },
  {
   "cell_type": "code",
   "execution_count": 4,
   "id": "5e809e6b",
   "metadata": {},
   "outputs": [],
   "source": [
    "#4.parser html\n",
    "soup = BeautifulSoup(response.text, \"html.parser\")"
   ]
  },
  {
   "cell_type": "code",
   "execution_count": 5,
   "id": "35909313",
   "metadata": {},
   "outputs": [
    {
     "name": "stdout",
     "output_type": "stream",
     "text": [
      "[]\n"
     ]
    }
   ],
   "source": [
    "#5.find specific content\n",
    "movies = soup.find_all(\"li\", class_=\"ipc-metadata-list-summary-item\")\n",
    "\n",
    "print(movies)"
   ]
  },
  {
   "cell_type": "code",
   "execution_count": 6,
   "id": "94d96cb1",
   "metadata": {},
   "outputs": [
    {
     "name": "stdout",
     "output_type": "stream",
     "text": [
      "[]\n"
     ]
    }
   ],
   "source": [
    "#6.loop for every box\n",
    "for box in movies:\n",
    "    title = box.find(\"h3\", class_=\"ipc-title__text ipc-title__text-reduced\").get_text(strip=True)\n",
    "    \n",
    "    all_movies.append({\"title\":title})\n",
    "\n",
    "\n",
    "print(all_movies)"
   ]
  },
  {
   "cell_type": "code",
   "execution_count": null,
   "id": "258bad40",
   "metadata": {},
   "outputs": [],
   "source": []
  }
 ],
 "metadata": {
  "kernelspec": {
   "display_name": "Python 3",
   "language": "python",
   "name": "python3"
  },
  "language_info": {
   "codemirror_mode": {
    "name": "ipython",
    "version": 3
   },
   "file_extension": ".py",
   "mimetype": "text/x-python",
   "name": "python",
   "nbconvert_exporter": "python",
   "pygments_lexer": "ipython3",
   "version": "3.10.4"
  }
 },
 "nbformat": 4,
 "nbformat_minor": 5
}

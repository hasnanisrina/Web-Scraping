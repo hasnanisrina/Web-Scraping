{
 "cells": [
  {
   "cell_type": "code",
   "execution_count": 1,
   "id": "569fef5c",
   "metadata": {},
   "outputs": [],
   "source": [
    "#1.Import Library\n",
    "import requests\n",
    "from bs4 import BeautifulSoup\n",
    "import time\n",
    "import pandas as pd"
   ]
  },
  {
   "cell_type": "code",
   "execution_count": 2,
   "id": "4746bbd3",
   "metadata": {},
   "outputs": [],
   "source": [
    "#2.set base url\n",
    "BASE_URL = \"https://quotes.toscrape.com/\""
   ]
  },
  {
   "cell_type": "code",
   "execution_count": null,
   "id": "844ad98d",
   "metadata": {},
   "outputs": [],
   "source": [
    "#3.Function 1.feth url\n",
    "def fetch_page(url):\n",
    "    \"\"\"Download HTML and return BeautifulSoup object (with error handling).\"\"\"\n",
    "    try:\n",
    "        response = requests.get(url, timeout=10)\n",
    "        response.raise_for_status()\n",
    "        return BeautifulSoup(response.text, \"html.parser\")\n",
    "    except requests.exceptions.RequestException as e:\n",
    "        print(f\"[ERROR] Failed to fetch {url}: {e}\")\n",
    "        return none"
   ]
  },
  {
   "cell_type": "code",
   "execution_count": 4,
   "id": "cf2db8ec",
   "metadata": {},
   "outputs": [],
   "source": [
    "#4.Function 2.Parse html\n",
    "def parse_quotes(soup):\n",
    "    \"\"\"Extract quotes from a page\"\"\"\n",
    "    all_quotes = []\n",
    "    if soup:\n",
    "        for box in quotes:\n",
    "            text = box.find(\"span\", class_=\"text\").get_text(strip=True)\n",
    "            author = box.find(\"small\", class_=\"author\").get_text(strip=True)\n",
    "            all_quotes.append({\"text\":text, \"author\":author})\n",
    "    return all_quotes\n"
   ]
  },
  {
   "cell_type": "code",
   "execution_count": null,
   "id": "8ca277e8",
   "metadata": {},
   "outputs": [],
   "source": []
  }
 ],
 "metadata": {
  "kernelspec": {
   "display_name": "Python 3",
   "language": "python",
   "name": "python3"
  },
  "language_info": {
   "codemirror_mode": {
    "name": "ipython",
    "version": 3
   },
   "file_extension": ".py",
   "mimetype": "text/x-python",
   "name": "python",
   "nbconvert_exporter": "python",
   "pygments_lexer": "ipython3",
   "version": "3.10.4"
  }
 },
 "nbformat": 4,
 "nbformat_minor": 5
}
